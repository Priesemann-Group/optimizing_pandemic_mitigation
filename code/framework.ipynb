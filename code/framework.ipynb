{
 "cells": [
  {
   "cell_type": "markdown",
   "id": "b673253f",
   "metadata": {},
   "source": [
    "# General framework for the optimization\n",
    "\n",
    "Here, we explain the general framework step by step and provide the necessary code ready to copy and adapt."
   ]
  },
  {
   "cell_type": "markdown",
   "id": "4f830c7f",
   "metadata": {},
   "source": [
    "### Libraries\n",
    "\n",
    "For the code, we need to import [jax](https://jax.de/) and [icomo](https://icomo.readthedocs.io/en/stable/)."
   ]
  },
  {
   "cell_type": "code",
   "execution_count": null,
   "id": "d30dc1af",
   "metadata": {},
   "outputs": [],
   "source": [
    "\n",
    "import jax\n",
    "import jaxopt\n",
    "import icomo "
   ]
  },
  {
   "cell_type": "markdown",
   "id": "452dda70",
   "metadata": {},
   "source": [
    "### Model equations\n",
    "\n",
    "The dynamics of the system (e.g. disease spread) are described by differential equations. These are implemented with icomo as in the following example:"
   ]
  },
  {
   "cell_type": "code",
   "execution_count": null,
   "id": "4407f557",
   "metadata": {},
   "outputs": [],
   "source": [
    "def SIRS(t, y, args):\n",
    "    \"\"\"\n",
    "    Computes the derivatives for the SIRS (Susceptible-Infected-Recovered-Susceptible) model.\n",
    "\n",
    "    Parameters:\n",
    "        t (float): Current time.\n",
    "        y (dict): Dictionary with current values of compartments \"S\", \"I\", and \"R\".\n",
    "        args (dict): Dictionary containing the model parameters:\n",
    "            - beta_t (function): Time-dependent transmission rate function β(t).\n",
    "            - gamma (float): Recovery rate γ.\n",
    "            - nu (float): Loss of immunity rate ν.\n",
    "\n",
    "    Returns:\n",
    "        dict: Derivatives for \"S\", \"I\", and \"R\" at time t.\n",
    "    \"\"\"\n",
    "    β = args[\"beta_t\"]\n",
    "    γ = args[\"gamma\"]\n",
    "    nu = args[\"nu\"]\n",
    "    dS = -β(t) * y[\"I\"] * y[\"S\"] + nu * y[\"R\"]\n",
    "    dI = β(t) * y[\"I\"] * y[\"S\"]- γ * y[\"I\"]\n",
    "    dR = γ * y[\"I\"] - nu * y[\"R\"]\n",
    "    dy = {\"S\": dS, \"I\": dI, \"R\": dR}\n",
    "    return dy"
   ]
  },
  {
   "cell_type": "markdown",
   "id": "30669a85",
   "metadata": {},
   "source": [
    "### Simulation\n",
    "\n",
    "For the optimization we need a function that carries out the simulation, i.e. integrates the differential equations.\n",
    "\n",
    "- The optimization algorithm has no boundaries and gives values between -inf and inf, which is why we need to implement boundaries here, for example by using a sigmoid function to transform the values to lie between 0 and 1.\n",
    "- icomo.interpolate is used to transform arrays into callable functions (here needed for the integration of the differential equations).\n",
    "- icomo.diffeqsolve is used to integrate the differential equations"
   ]
  },
  {
   "cell_type": "code",
   "execution_count": null,
   "id": "e5b11c3d",
   "metadata": {},
   "outputs": [],
   "source": [
    "def simulation(x):\n",
    "    \"\"\"\n",
    "    Simulates the SIRS model dynamics under time-dependent mitigation measures.\n",
    "\n",
    "    Parameters:\n",
    "        x (array-like): Control input that determines the level of mitigation over time. \n",
    "                        Transformed via a sigmoid to lie in the interval [0, 1].\n",
    "\n",
    "    Returns:\n",
    "        tuple:\n",
    "            - dict: Time series of the compartments \"S\", \"I\", and \"R\" as computed by the ODE solver.\n",
    "            - ndarray: Effective fraction of transmission reduction interpolated to the output time grid.\n",
    "    \"\"\"\n",
    "    frac_reduc = jax.nn.sigmoid(-x)*0.99999999999999999 # transform values to [0,1]\n",
    "    beta_t = frac_reduc*beta_0_t # time-dependent beta\n",
    "    beta_t_func = icomo.interpolate_func(ts_in=t_beta,values=beta_t) # beta is now callable function\n",
    "    y0 = {'S': 1-I0, 'I': I0, 'R':0} # initial conditions\n",
    "    args = {'gamma': gamma, 'nu': nu, 'beta_t': beta_t_func} # arguments for ODE\n",
    "    \n",
    "    output = icomo.diffeqsolve(args=args, ODE = SIRS.SIRS, y0 = y0, ts_out = t_out) # solve ODE\n",
    "\n",
    "    eff_frac_reduc = icomo.interpolate_func(t_beta, frac_reduc, 'cubic')(t_out) # interpolate frac_reduc to t_out\n",
    "    return output.ys, eff_frac_reduc # return output and effective mitigation\n",
    "\n"
   ]
  },
  {
   "cell_type": "markdown",
   "id": "b491d858",
   "metadata": {},
   "source": [
    "### Cost function\n",
    "\n",
    "This is the function that we want to minimize. For each value x (which can be a single value or array), the cost is caluclated. For this, the simulation is carried out and the cost of the results is calculated.\n",
    "\n",
    "jax.value_and_grad is used to calculate the derivative of the cost function using automatic differentiation. The cost function therefore does not need to be differentiated analytically/ by hand."
   ]
  },
  {
   "cell_type": "code",
   "execution_count": null,
   "id": "11717599",
   "metadata": {},
   "outputs": [],
   "source": [
    "@jax.jit\n",
    "def min_func(x):\n",
    "    \"\"\"\n",
    "    Objective function for optimization.\n",
    "\n",
    "    Runs a simulation based on the mitigation input `x`, calculates the total cost as the sum of infection and mitigation costs.\n",
    "\n",
    "    Parameters:\n",
    "        x (float or array-like): Mitigation input(s). \n",
    "\n",
    "    Returns:\n",
    "        float: Total cost computed as the sum of infection and mitigation costs over time.\n",
    "    \"\"\"\n",
    "    output, frac_reduc = simulation(x) # carry out simulation\n",
    "    m = 1-frac_reduc # mitigation = 1-frac_reduc\n",
    "    cost = jnp.sum(CI_func(a,output['I']) + CM_func(m))*dt # calculate cost\n",
    "    return cost\n",
    "\n",
    "\n",
    "value_and_grad_min_func = jax.jit(jax.value_and_grad(min_func)) # automatic differentiation for cost function\n",
    "\n",
    "\n",
    "\t"
   ]
  },
  {
   "cell_type": "markdown",
   "id": "63497284",
   "metadata": {},
   "source": [
    "### Carry out optimization and get results\n",
    "\n",
    "The optimization is carried out with jaxopt.ScipyMinimize, which is given the cost function and its derivative defined above. \n",
    "For the algorithm, we chose the L-BFGS-B (limited Broyden–Fletcher–Goldfarb–Shanno).\n",
    "To run the solver a starting value has to be given.\n",
    "\n",
    "The results for the optimized control are obtained by running the simulation with the optimization output."
   ]
  },
  {
   "cell_type": "code",
   "execution_count": null,
   "id": "aaa0b359",
   "metadata": {},
   "outputs": [],
   "source": [
    "\n",
    "# use L-BFGS-B algorithm for optimization\n",
    "solver = jaxopt.ScipyMinimize(fun=value_and_grad_min_func, value_and_grad=True, method=\"L-BFGS-B\", jit=False, maxiter=500)\n",
    "res = solver.run(x_0) # carry out optimization\n",
    "    \n",
    "output, frac_reduc = simulation(res.params) # carry out simulation with optimal mitigation (which is between -inf and inf)"
   ]
  }
 ],
 "metadata": {
  "kernelspec": {
   "display_name": "icomo_dev_mamba",
   "language": "python",
   "name": "python3"
  },
  "language_info": {
   "name": "python",
   "version": "3.10.12"
  }
 },
 "nbformat": 4,
 "nbformat_minor": 5
}
